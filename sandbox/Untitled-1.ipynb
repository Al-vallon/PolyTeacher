{
 "cells": [
  {
   "cell_type": "code",
   "execution_count": null,
   "metadata": {},
   "outputs": [],
   "source": [
    "%pip install google-generativeai"
   ]
  },
  {
   "cell_type": "code",
   "execution_count": null,
   "metadata": {},
   "outputs": [
    {
     "data": {
      "text/plain": [
       "'La traduction de \"J\\'ai un chien\" en polonais est :\\n\\n**Mam psa.**\\n'"
      ]
     },
     "execution_count": 5,
     "metadata": {},
     "output_type": "execute_result"
    }
   ],
   "source": [
    "\n",
    "\n",
    "import google.generativeai as genai\n",
    "import os\n",
    "\n",
    "api_key = \"\"\n",
    "\n",
    "\n",
    "prompt = \"\"\"\n",
    "Traduis  \"J'ai un chien\" en polonnais. La réponse ne doit contenir que la traduction\n",
    "\"\"\"\n",
    "\n",
    "genai.configure(api_key=api_key)\n",
    "\n",
    "model = genai.GenerativeModel(\"gemini-1.5-flash\")\n",
    "response = model.generate_content(prompt)\n",
    "# print(response.text)\n",
    "\n",
    "\n",
    "def translate_text(a, b, c):\n",
    "    prompt = f'Traduis \"{c}\" en {b}.'\n",
    "    response = model.generate_content(prompt)\n",
    "    # print(response.text)\n",
    "    return response.text\n",
    "\n",
    "translate_text(a, b, c)"
   ]
  },
  {
   "cell_type": "code",
   "execution_count": null,
   "metadata": {},
   "outputs": [],
   "source": []
  }
 ],
 "metadata": {
  "kernelspec": {
   "display_name": "Python 3",
   "language": "python",
   "name": "python3"
  },
  "language_info": {
   "codemirror_mode": {
    "name": "ipython",
    "version": 3
   },
   "file_extension": ".py",
   "mimetype": "text/x-python",
   "name": "python",
   "nbconvert_exporter": "python",
   "pygments_lexer": "ipython3",
   "version": "3.12.3"
  }
 },
 "nbformat": 4,
 "nbformat_minor": 2
}
